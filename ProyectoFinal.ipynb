{
 "cells": [
  {
   "cell_type": "code",
   "execution_count": 5,
   "metadata": {},
   "outputs": [],
   "source": [
    "import cv2\n",
    "from gaze_tracking import GazeTracking\n",
    "import time\n",
    "from playsound import playsound"
   ]
  },
  {
   "cell_type": "markdown",
   "metadata": {},
   "source": [
    "Lo primero que hay que hacer, es llamar al gui que va a hacer que se muestre en pantalla la aplicacion. Desde ahi, se mostraran varios botons. Como calibracion."
   ]
  },
  {
   "cell_type": "code",
   "execution_count": 6,
   "metadata": {},
   "outputs": [],
   "source": [
    "#definicion de parametros de pomodoro\n",
    "global attention\n",
    "attention = \"navi-hey-listen.mp3\"\n",
    "work=float(1500) #25 mins\n",
    "short= float(300) #5 mins\n",
    "long=float(900) #15 mins\n",
    "cycles=4"
   ]
  },
  {
   "cell_type": "code",
   "execution_count": 14,
   "metadata": {},
   "outputs": [],
   "source": [
    "#definicion de funciones\n",
    "#checkPupil pide una frame nueva en la camara y revisa la pupila\n",
    "#working time es una surutina de tiempo de trabajo, revisando el movimiento pupilar\n",
    "def workingTime(workTime):\n",
    "    webcam = cv2.VideoCapture(0)\n",
    "    gaze=GazeTracking()\n",
    "    webcam = cv2.VideoCapture(0)\n",
    "\n",
    "    times=time.time()\n",
    "    newTime=time.time()\n",
    "    timeLeft=0\n",
    "\n",
    "    while (newTime-times)< workTime :\n",
    "\n",
    "        _, frame = webcam.read()\n",
    "        gaze.refresh(frame)\n",
    "        located= gaze.pupils_located\n",
    "\n",
    "        preLoop=time.time()\n",
    "        while located == False:\n",
    "            noPupilTime=time.time()\n",
    "            if (noPupilTime-preLoop) > 10:\n",
    "                #Aqui lanzamos la alerta de tiempo sin ver la pantalla\n",
    "                playsound(attention)\n",
    "                print(\"pon atencion!\")\n",
    "                break\n",
    "            _, frame = webcam.read()\n",
    "            gaze.refresh(frame)\n",
    "            located= gaze.pupils_located\n",
    "            if located == True:\n",
    "                break\n",
    "\n",
    "\n",
    "        if (times-newTime)> 1200:\n",
    "            if timeLeft == 0:\n",
    "                print(\"solo quedan 5 minutos, tu puedes!\")\n",
    "                #aqui se muestra una notificacion de que \"solo quedan 5 minutos mas! Tu puedes!\"\n",
    "        newTime=time.time()\n",
    "    webcam.release()\n",
    "#Breaktime es un contador de descanso, sea largo o corto\n",
    "def breakTime(shortTime,longTime,cycles): #hay que ver como incorporar los ciclos\n",
    "    if cycles>=1:\n",
    "        print(\"Time for a short break!\")\n",
    "        time1=time.time()\n",
    "        time2=time.time()\n",
    "        while (time2-time1)<shortTime:\n",
    "            time2=time.time()\n",
    "        print(\"Time for work again!\")\n",
    "    else:\n",
    "        print(\"Time for a long break!\")\n",
    "        while(time2-time1)<longTime:\n",
    "            time2=time.time()\n",
    "#falta arreglar la funcion de calibracion\n",
    "def calibration():\n",
    "    gaze=GazeTracking()\n",
    "    webcam = cv2.VideoCapture(0)\n",
    "\n",
    "    while True:\n",
    "    # We get a new frame from the webcam\n",
    "        _, frame = webcam.read()\n",
    "\n",
    "        # We send this frame to GazeTracking to analyze it\n",
    "        gaze.refresh(frame)\n",
    "\n",
    "\n",
    "        if gaze.is_blinking():\n",
    "            text = \"Blinking\"\n",
    "        elif gaze.is_right():\n",
    "            text = \"Looking right\"\n",
    "        elif gaze.is_left():\n",
    "            text = \"Looking left\"\n",
    "        elif gaze.is_center():\n",
    "            text = \"Looking center\"\n",
    "\n",
    "        cv2.putText(frame, text, (90, 60), cv2.FONT_HERSHEY_DUPLEX, 1.6, (147, 58, 31), 2)\n",
    "\n",
    "        left_pupil = gaze.pupil_left_coords()\n",
    "        right_pupil = gaze.pupil_right_coords()\n",
    "        cv2.putText(frame, \"Left pupil:  \" + str(left_pupil), (90, 130), cv2.FONT_HERSHEY_DUPLEX, 0.9, (147, 58, 31), 1)\n",
    "        cv2.putText(frame, \"Right pupil: \" + str(right_pupil), (90, 165), cv2.FONT_HERSHEY_DUPLEX, 0.9, (147, 58, 31), 1)\n",
    "\n",
    "        cv2.imshow(\"Demo\", frame)\n",
    "\n",
    "        if cv2.waitKey(1) == 27:\n",
    "            break\n",
    "    webcam.release()\n",
    "    cv2.destroyAllWindows()\n",
    "\n",
    "#def soundSelect():\n",
    "#definir los sonidos como variables globales"
   ]
  },
  {
   "cell_type": "code",
   "execution_count": 15,
   "metadata": {},
   "outputs": [
    {
     "name": "stdout",
     "output_type": "stream",
     "text": [
      "pon atencion!\n",
      "pon atencion!\n",
      "pon atencion!\n",
      "pon atencion!\n",
      "Time for a short break!\n"
     ]
    },
    {
     "ename": "KeyboardInterrupt",
     "evalue": "",
     "output_type": "error",
     "traceback": [
      "\u001b[1;31m---------------------------------------------------------------------------\u001b[0m",
      "\u001b[1;31mKeyboardInterrupt\u001b[0m                         Traceback (most recent call last)",
      "\u001b[1;32m~\\AppData\\Local\\Temp\\ipykernel_27556\\510819509.py\u001b[0m in \u001b[0;36m<module>\u001b[1;34m\u001b[0m\n\u001b[0;32m      9\u001b[0m     \u001b[1;31m#while cycles > 0:\u001b[0m\u001b[1;33m\u001b[0m\u001b[1;33m\u001b[0m\u001b[1;33m\u001b[0m\u001b[0m\n\u001b[0;32m     10\u001b[0m     \u001b[0mworkingTime\u001b[0m\u001b[1;33m(\u001b[0m\u001b[0mwork\u001b[0m\u001b[1;33m)\u001b[0m\u001b[1;33m\u001b[0m\u001b[1;33m\u001b[0m\u001b[0m\n\u001b[1;32m---> 11\u001b[1;33m     \u001b[0mbreakTime\u001b[0m\u001b[1;33m(\u001b[0m\u001b[0mshort\u001b[0m\u001b[1;33m,\u001b[0m\u001b[0mlong\u001b[0m\u001b[1;33m,\u001b[0m\u001b[0mcycles\u001b[0m\u001b[1;33m)\u001b[0m\u001b[1;33m\u001b[0m\u001b[1;33m\u001b[0m\u001b[0m\n\u001b[0m\u001b[0;32m     12\u001b[0m     \u001b[0mcycles\u001b[0m\u001b[1;33m=\u001b[0m\u001b[0mcycles\u001b[0m\u001b[1;33m-\u001b[0m\u001b[1;36m1\u001b[0m\u001b[1;33m\u001b[0m\u001b[1;33m\u001b[0m\u001b[0m\n",
      "\u001b[1;32m~\\AppData\\Local\\Temp\\ipykernel_27556\\3403165689.py\u001b[0m in \u001b[0;36mbreakTime\u001b[1;34m(shortTime, longTime, cycles)\u001b[0m\n\u001b[0;32m     45\u001b[0m         \u001b[0mtime2\u001b[0m\u001b[1;33m=\u001b[0m\u001b[0mtime\u001b[0m\u001b[1;33m.\u001b[0m\u001b[0mtime\u001b[0m\u001b[1;33m(\u001b[0m\u001b[1;33m)\u001b[0m\u001b[1;33m\u001b[0m\u001b[1;33m\u001b[0m\u001b[0m\n\u001b[0;32m     46\u001b[0m         \u001b[1;32mwhile\u001b[0m \u001b[1;33m(\u001b[0m\u001b[0mtime2\u001b[0m\u001b[1;33m-\u001b[0m\u001b[0mtime1\u001b[0m\u001b[1;33m)\u001b[0m\u001b[1;33m<\u001b[0m\u001b[0mshortTime\u001b[0m\u001b[1;33m:\u001b[0m\u001b[1;33m\u001b[0m\u001b[1;33m\u001b[0m\u001b[0m\n\u001b[1;32m---> 47\u001b[1;33m             \u001b[0mtime2\u001b[0m\u001b[1;33m=\u001b[0m\u001b[0mtime\u001b[0m\u001b[1;33m.\u001b[0m\u001b[0mtime\u001b[0m\u001b[1;33m(\u001b[0m\u001b[1;33m)\u001b[0m\u001b[1;33m\u001b[0m\u001b[1;33m\u001b[0m\u001b[0m\n\u001b[0m\u001b[0;32m     48\u001b[0m         \u001b[0mprint\u001b[0m\u001b[1;33m(\u001b[0m\u001b[1;34m\"Time for work again!\"\u001b[0m\u001b[1;33m)\u001b[0m\u001b[1;33m\u001b[0m\u001b[1;33m\u001b[0m\u001b[0m\n\u001b[0;32m     49\u001b[0m     \u001b[1;32melse\u001b[0m\u001b[1;33m:\u001b[0m\u001b[1;33m\u001b[0m\u001b[1;33m\u001b[0m\u001b[0m\n",
      "\u001b[1;31mKeyboardInterrupt\u001b[0m: "
     ]
    },
    {
     "ename": "",
     "evalue": "",
     "output_type": "error",
     "traceback": [
      "\u001b[1;31mThe Kernel crashed while executing code in the the current cell or a previous cell. Please review the code in the cell(s) to identify a possible cause of the failure. Click <a href='https://aka.ms/vscodeJupyterKernelCrash'>here</a> for more info. View Jupyter <a href='command:jupyter.viewOutput'>log</a> for further details."
     ]
    }
   ],
   "source": [
    "#funcion principal\n",
    "\n",
    "while True:\n",
    "    work=float(60) #25 mins\n",
    "    short= float(300) #5 mins\n",
    "    long=float(900) #15 mins\n",
    "    cycles=4\n",
    "\n",
    "    #while cycles > 0:\n",
    "    workingTime(work)\n",
    "    breakTime(short,long,cycles)\n",
    "    cycles=cycles-1\n"
   ]
  },
  {
   "cell_type": "markdown",
   "metadata": {},
   "source": [
    "La condicion tiene que estar dentro del while que cuenta el tiempo. Tendria que meterlo dentro de cada una de las funciones."
   ]
  }
 ],
 "metadata": {
  "kernelspec": {
   "display_name": "Python 3.10.8 64-bit (microsoft store)",
   "language": "python",
   "name": "python3"
  },
  "language_info": {
   "codemirror_mode": {
    "name": "ipython",
    "version": 3
   },
   "file_extension": ".py",
   "mimetype": "text/x-python",
   "name": "python",
   "nbconvert_exporter": "python",
   "pygments_lexer": "ipython3",
   "version": "3.10.8"
  },
  "orig_nbformat": 4,
  "vscode": {
   "interpreter": {
    "hash": "e3a928b85d63b2ef9b6ccf12e8d329d0cbc7130b7b94533fcc116c9895f7d050"
   }
  }
 },
 "nbformat": 4,
 "nbformat_minor": 2
}
